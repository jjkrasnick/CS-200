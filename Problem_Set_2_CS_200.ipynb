{
  "nbformat": 4,
  "nbformat_minor": 0,
  "metadata": {
    "colab": {
      "provenance": [],
      "authorship_tag": "ABX9TyMB05kGEmAmjfPnkzrV9Cdi",
      "include_colab_link": true
    },
    "kernelspec": {
      "name": "python3",
      "display_name": "Python 3"
    },
    "language_info": {
      "name": "python"
    }
  },
  "cells": [
    {
      "cell_type": "markdown",
      "metadata": {
        "id": "view-in-github",
        "colab_type": "text"
      },
      "source": [
        "<a href=\"https://colab.research.google.com/github/jjkrasnick/CS-200/blob/main/Problem_Set_2_CS_200.ipynb\" target=\"_parent\"><img src=\"https://colab.research.google.com/assets/colab-badge.svg\" alt=\"Open In Colab\"/></a>"
      ]
    },
    {
      "cell_type": "code",
      "source": [
        "import numpy as np\n",
        "from scipy.signal import convolve2d\n",
        "from PIL import Image\n",
        "import requests\n",
        "from io import BytesIO\n",
        "\n",
        "def convImageX(I, f):\n",
        "    # Ensure f is a 1D filter\n",
        "    assert len(f.shape) == 1, \"Filter must be 1D\"\n",
        "\n",
        "    # Reshape the filter to be a 2D filter with size (1, len(f))\n",
        "    f = f.reshape(1, -1)\n",
        "\n",
        "    # Perform the 2D convolution\n",
        "    r = convolve2d(I, f, mode='same', boundary='fill', fillvalue=0)\n",
        "\n",
        "    return r\n",
        "\n",
        "# Define a 1D filter\n",
        "f = np.array([1, -1])\n",
        "\n",
        "# Download the image\n",
        "response = requests.get('https://people.sc.fsu.edu/~jburkardt/data/png/mona_lisa.png')\n",
        "img = Image.open(BytesIO(response.content))\n",
        "\n",
        "# Convert the image to grayscale and perform the convolution\n",
        "I = np.array(img.convert('L'))\n",
        "r = convImageX(I, f)\n"
      ],
      "metadata": {
        "id": "V4UF2lVmzHAh"
      },
      "execution_count": 5,
      "outputs": []
    },
    {
      "cell_type": "code",
      "source": [
        "import numpy as np\n",
        "from scipy.ndimage import convolve\n",
        "\n",
        "def compute_gradient(I):\n",
        "    # Define the Sobel filters\n",
        "    sobel_x = np.array([[-1, 0, 1], [-2, 0, 2], [-1, 0, 1]])\n",
        "    sobel_y = np.array([[1, 2, 1], [0, 0, 0], [-1, -2, -1]])\n",
        "\n",
        "    # Compute the gradient in the x and y directions\n",
        "    Gx = convolve(I, sobel_x)\n",
        "    Gy = convolve(I, sobel_y)\n",
        "\n",
        "    # Compute the gradient magnitude and direction\n",
        "    magnitude = np.sqrt(Gx**2 + Gy**2)\n",
        "    direction = np.arctan2(Gy, Gx) * 180 / np.pi\n",
        "\n",
        "    return magnitude, direction\n",
        "\n",
        "# Download the image\n",
        "response = requests.get('https://people.sc.fsu.edu/~jburkardt/data/png/mona_lisa.png')\n",
        "img = Image.open(BytesIO(response.content))\n",
        "\n",
        "# Convert the image to grayscale and compute the gradient\n",
        "I = np.array(img.convert('L'))\n",
        "magnitude, direction = compute_gradient(I)\n"
      ],
      "metadata": {
        "id": "fz_rsgekzzG1"
      },
      "execution_count": 6,
      "outputs": []
    }
  ]
}