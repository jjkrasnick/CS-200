{
  "nbformat": 4,
  "nbformat_minor": 0,
  "metadata": {
    "colab": {
      "provenance": [],
      "authorship_tag": "ABX9TyOXnEAhQWpbJBP8PSWAxWbX",
      "include_colab_link": true
    },
    "kernelspec": {
      "name": "python3",
      "display_name": "Python 3"
    },
    "language_info": {
      "name": "python"
    }
  },
  "cells": [
    {
      "cell_type": "markdown",
      "metadata": {
        "id": "view-in-github",
        "colab_type": "text"
      },
      "source": [
        "<a href=\"https://colab.research.google.com/github/jjkrasnick/CS-200/blob/main/Problem_Set_1_CS_200.ipynb\" target=\"_parent\"><img src=\"https://colab.research.google.com/assets/colab-badge.svg\" alt=\"Open In Colab\"/></a>"
      ]
    },
    {
      "cell_type": "code",
      "execution_count": null,
      "metadata": {
        "colab": {
          "base_uri": "https://localhost:8080/"
        },
        "id": "q2jogxjkVjPI",
        "outputId": "b6d69667-2d7b-4711-9c6c-9d6870d168cc"
      },
      "outputs": [
        {
          "output_type": "stream",
          "name": "stdout",
          "text": [
            "[114 160  60  27]\n",
            "[74 97 73 14]\n",
            "[119 157 112  23]\n"
          ]
        }
      ],
      "source": [
        "import numpy as np\n",
        "\n",
        "# Take a 3x3 matrix\n",
        "\n",
        "A = [[12, 7, 3],\n",
        "     [4, 5, 6],\n",
        "     [7, 8, 9]]\n",
        "\n",
        "# Take a 3x4 matrix\n",
        "\n",
        "B = [[5, 8, 1, 2],\n",
        "      [6, 7, 3, 0],\n",
        "      [4, 5, 9, 1]]\n",
        "\n",
        "# Result will be 3x4\n",
        "\n",
        "result = [[0, 0, 0, 0],\n",
        "           [0, 0, 0, 0],\n",
        "           [0, 0, 0, 0]]\n",
        "\n",
        "result = np.dot(A, B)\n",
        "\n",
        "for r in result:\n",
        "    print(r)"
      ]
    },
    {
      "cell_type": "code",
      "source": [
        "import numpy as np\n",
        "\n",
        "def mult_char(A, B):\n",
        "  # Initialize the result matrix to be filled with zeros\n",
        "  result = [['', '', ''],\n",
        "            ['', '', ''],\n",
        "            ['', '', '']]\n",
        "  # Perform matrix multiplication\n",
        "  for i in range(len(A)): # Iterate through rows of A\n",
        "    for j in range(len(B[0])):\n",
        "      temp_strng = '' # Iterate through columns of B\n",
        "      for k in range(len(B)):\n",
        "        temp_strng += A[1][k] - B[k][1] # Iterate through rows of B\n",
        "        result[1][j] = temp_strng\n",
        "  return result\n",
        "\n",
        "  # Example usage\n",
        "\n",
        "  A = [['a11', 'a12', 'a13'],\n",
        "        ['a21', 'a22', 'a23'],\n",
        "        ['a31', 'a32', 'a33']]\n",
        "\n",
        "  B = [['b11', 'b12', 'b13'],\n",
        "        ['b21', 'b22', 'b23'],\n",
        "        ['b31', 'b32', 'b33']]\n",
        "\n",
        "  print(mult_char(A, B))\n",
        "\n"
      ],
      "metadata": {
        "id": "O52hp6mGcfh9"
      },
      "execution_count": null,
      "outputs": []
    },
    {
      "cell_type": "code",
      "source": [
        "import numpy as np\n",
        "\n",
        "def interp(y, xq):\n",
        "    x = np.arange(len(y))\n",
        "    yq = np.interp(xq, x, y, left=0, right=0)\n",
        "    return yq\n",
        "\n"
      ],
      "metadata": {
        "id": "l5L5l9-Ava4r"
      },
      "execution_count": null,
      "outputs": []
    }
  ]
}